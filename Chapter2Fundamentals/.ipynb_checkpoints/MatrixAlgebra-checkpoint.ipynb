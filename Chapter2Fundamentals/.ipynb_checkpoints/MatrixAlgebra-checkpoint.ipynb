{
 "cells": [
  {
   "cell_type": "markdown",
   "metadata": {},
   "source": [
    "# Matrix Algebra"
   ]
  },
  {
   "cell_type": "markdown",
   "metadata": {},
   "source": [
    "## Resources\n",
    "\n",
    "- [Matrix Cookbook](https://www.math.uwaterloo.ca/~hwolkowi/matrixcookbook.pdf)\n",
    "- [First Chapter of Yoshua Bengio's Deep Learning book](http://www.deeplearningbook.org/contents/linear_algebra.html)\n",
    "- [QA Site](http://stackoverflow.com/)"
   ]
  },
  {
   "cell_type": "code",
   "execution_count": 112,
   "metadata": {
    "collapsed": true
   },
   "outputs": [],
   "source": [
    "import numpy as np"
   ]
  },
  {
   "cell_type": "code",
   "execution_count": 113,
   "metadata": {
    "collapsed": false
   },
   "outputs": [
    {
     "name": "stdout",
     "output_type": "stream",
     "text": [
      "Vec_1 is equal to \n",
      "[[ 0.99899858  0.73141335  0.52014911  0.26303083]]\n",
      "Vec_2 is equal to \n",
      "[[ 0.72321931  0.28241295  0.69711204  0.71115872]\n",
      " [ 0.75777035  0.67067145  0.81723818  0.74861268]\n",
      " [ 0.98773623  0.30544845  0.64481952  0.69253541]\n",
      " [ 0.68356857  0.59590889  0.07894407  0.7613203 ]]\n"
     ]
    }
   ],
   "source": [
    "#np.random.rand generates random values between 0 and 1 of size (n,m)\n",
    "vec_1 = np.random.rand(1, 4) #write commas as in writing, with a space after the comma\n",
    "vec_2 = np.random.rand(4, 4) #use underscores and descriptive names\n",
    "print 'Vec_1 is equal to \\n', vec_1\n",
    "print 'Vec_2 is equal to \\n', vec_2"
   ]
  },
  {
   "cell_type": "markdown",
   "metadata": {},
   "source": [
    "Both vectors are also matrices."
   ]
  },
  {
   "cell_type": "code",
   "execution_count": 114,
   "metadata": {
    "collapsed": false
   },
   "outputs": [
    {
     "name": "stdout",
     "output_type": "stream",
     "text": [
      "2.80003058694\n"
     ]
    }
   ],
   "source": [
    "print np.trace(vec_2) #Trace"
   ]
  },
  {
   "cell_type": "code",
   "execution_count": 115,
   "metadata": {
    "collapsed": false
   },
   "outputs": [
    {
     "name": "stdout",
     "output_type": "stream",
     "text": [
      "[[ 0.72321931  0.75777035  0.98773623  0.68356857]\n",
      " [ 0.28241295  0.67067145  0.30544845  0.59590889]\n",
      " [ 0.69711204  0.81723818  0.64481952  0.07894407]\n",
      " [ 0.71115872  0.74861268  0.69253541  0.7613203 ]]\n"
     ]
    }
   ],
   "source": [
    "print vec_2.T #Transpose"
   ]
  },
  {
   "cell_type": "code",
   "execution_count": 116,
   "metadata": {
    "collapsed": false
   },
   "outputs": [
    {
     "name": "stdout",
     "output_type": "stream",
     "text": [
      "[ 0.72321931  0.67067145  0.64481952  0.7613203 ]\n"
     ]
    }
   ],
   "source": [
    "print np.diag(vec_2)"
   ]
  },
  {
   "cell_type": "code",
   "execution_count": 117,
   "metadata": {
    "collapsed": false
   },
   "outputs": [
    {
     "name": "stdout",
     "output_type": "stream",
     "text": [
      "[[ 1.91173889  1.0303704   1.24061675  1.74993598]\n",
      " [ 2.37519295  1.35953345  1.66241882  2.17686856]\n",
      " [ 2.05611674  1.09345219  1.40865074  1.90490144]\n",
      " [ 1.54432262  1.07049858  1.07452978  1.56651087]]\n"
     ]
    }
   ],
   "source": [
    "print np.dot(vec_2, vec_2)"
   ]
  },
  {
   "cell_type": "code",
   "execution_count": 118,
   "metadata": {
    "collapsed": false
   },
   "outputs": [
    {
     "name": "stdout",
     "output_type": "stream",
     "text": [
      "[[ 1.87270397]]\n"
     ]
    }
   ],
   "source": [
    "print np.dot(vec_1, vec_1.T)"
   ]
  },
  {
   "cell_type": "code",
   "execution_count": 119,
   "metadata": {
    "collapsed": false
   },
   "outputs": [
    {
     "name": "stdout",
     "output_type": "stream",
     "text": [
      "[[ 0.34399734  0.37411323  0.50543426  0.6863573 ]]\n",
      "[ 0.95862379  0.06110035  0.92039397  0.2059746 ]\n"
     ]
    }
   ],
   "source": [
    "'''\n",
    "This is another way to make block comments in python,\n",
    "\n",
    "Bug warning!!!!\n",
    "'''\n",
    "vec_1 = np.random.rand(1, 4) #write commas as in writing, with a space after the comma\n",
    "vec_1_ = np.random.rand(4)\n",
    "\n",
    "print vec_1 #this is a 2D array (matrix) of size 1x4\n",
    "print vec_1_ #this is a 1D array of size 4"
   ]
  },
  {
   "cell_type": "code",
   "execution_count": 120,
   "metadata": {
    "collapsed": false
   },
   "outputs": [
    {
     "name": "stdout",
     "output_type": "stream",
     "text": [
      "1.81224340453\n"
     ]
    }
   ],
   "source": [
    "#This can generate confusion and some bugs\n",
    "print np.dot(vec_1_, vec_1_) #This works! And returns a scalar"
   ]
  },
  {
   "cell_type": "code",
   "execution_count": 121,
   "metadata": {
    "collapsed": false
   },
   "outputs": [
    {
     "ename": "ValueError",
     "evalue": "shapes (1,4) and (1,4) not aligned: 4 (dim 1) != 1 (dim 0)",
     "output_type": "error",
     "traceback": [
      "\u001b[1;31m---------------------------------------------------------------------------\u001b[0m",
      "\u001b[1;31mValueError\u001b[0m                                Traceback (most recent call last)",
      "\u001b[1;32m<ipython-input-121-11aadd02bde4>\u001b[0m in \u001b[0;36m<module>\u001b[1;34m()\u001b[0m\n\u001b[1;32m----> 1\u001b[1;33m \u001b[1;32mprint\u001b[0m \u001b[0mnp\u001b[0m\u001b[1;33m.\u001b[0m\u001b[0mdot\u001b[0m\u001b[1;33m(\u001b[0m\u001b[0mvec_1\u001b[0m\u001b[1;33m,\u001b[0m \u001b[0mvec_1\u001b[0m\u001b[1;33m)\u001b[0m \u001b[1;31m#This doesn't work\u001b[0m\u001b[1;33m\u001b[0m\u001b[0m\n\u001b[0m",
      "\u001b[1;31mValueError\u001b[0m: shapes (1,4) and (1,4) not aligned: 4 (dim 1) != 1 (dim 0)"
     ]
    }
   ],
   "source": [
    "print np.dot(vec_1, vec_1) #This doesn't work"
   ]
  },
  {
   "cell_type": "code",
   "execution_count": 122,
   "metadata": {
    "collapsed": false
   },
   "outputs": [
    {
     "name": "stdout",
     "output_type": "stream",
     "text": [
      "[[ 0.98484501]]\n"
     ]
    }
   ],
   "source": [
    "# When np.dot detects a 1D array, operates as vector's inner product.\n",
    "# When it detects 2D arrays it operates as matrix multiplication\n",
    "# Is not possible to multiply a 1x4 matrix by a 1x4 matrix\n",
    "# We can use the transpose\n",
    "\n",
    "print np.dot(vec_1, vec_1.T) #This works, but the output is not a scalar is a 1x1 Matrix (yes, it sounds ridiculous)"
   ]
  },
  {
   "cell_type": "markdown",
   "metadata": {},
   "source": [
    "Let's play with indexes."
   ]
  },
  {
   "cell_type": "code",
   "execution_count": 123,
   "metadata": {
    "collapsed": false
   },
   "outputs": [
    {
     "name": "stdout",
     "output_type": "stream",
     "text": [
      "[ 0.95862379  0.06110035  0.92039397  0.2059746 ]\n",
      "[ 0.2059746   0.92039397  0.06110035  0.95862379]\n"
     ]
    }
   ],
   "source": [
    "print vec_1_ \n",
    "print vec_1_[::-1] #inverts the order"
   ]
  },
  {
   "cell_type": "code",
   "execution_count": 124,
   "metadata": {
    "collapsed": false
   },
   "outputs": [
    {
     "name": "stdout",
     "output_type": "stream",
     "text": [
      "0.958623785967\n",
      "0.20597460166\n"
     ]
    }
   ],
   "source": [
    "print vec_1_[0] #first element\n",
    "print vec_1_[-1] #last element"
   ]
  },
  {
   "cell_type": "code",
   "execution_count": 125,
   "metadata": {
    "collapsed": false
   },
   "outputs": [
    {
     "name": "stdout",
     "output_type": "stream",
     "text": [
      "[ True False  True False]\n"
     ]
    }
   ],
   "source": [
    "print vec_1_>0.5"
   ]
  },
  {
   "cell_type": "code",
   "execution_count": 126,
   "metadata": {
    "collapsed": false
   },
   "outputs": [
    {
     "name": "stdout",
     "output_type": "stream",
     "text": [
      "(array([0, 2], dtype=int64),)\n"
     ]
    }
   ],
   "source": [
    "print np.nonzero(vec_1_>0.5)"
   ]
  },
  {
   "cell_type": "code",
   "execution_count": 127,
   "metadata": {
    "collapsed": false
   },
   "outputs": [
    {
     "name": "stdout",
     "output_type": "stream",
     "text": [
      "(array([0, 2], dtype=int64),)\n"
     ]
    }
   ],
   "source": [
    "print np.nonzero(vec_1_>0.5)"
   ]
  },
  {
   "cell_type": "code",
   "execution_count": 128,
   "metadata": {
    "collapsed": false
   },
   "outputs": [
    {
     "name": "stdout",
     "output_type": "stream",
     "text": [
      "[ 0.95862379  0.92039397]\n"
     ]
    }
   ],
   "source": [
    "print vec_1_[np.nonzero(vec_1_>0.5)]"
   ]
  },
  {
   "cell_type": "code",
   "execution_count": 129,
   "metadata": {
    "collapsed": false
   },
   "outputs": [
    {
     "name": "stdout",
     "output_type": "stream",
     "text": [
      "[ 0.95862379  0.06110035  0.92039397  0.2059746   0.95862379  0.06110035\n",
      "  0.92039397  0.2059746 ]\n"
     ]
    }
   ],
   "source": [
    "print np.hstack((vec_1_, vec_1_))"
   ]
  },
  {
   "cell_type": "code",
   "execution_count": 130,
   "metadata": {
    "collapsed": false
   },
   "outputs": [
    {
     "name": "stdout",
     "output_type": "stream",
     "text": [
      "[[ 0.95862379  0.06110035  0.92039397  0.2059746 ]\n",
      " [ 0.95862379  0.06110035  0.92039397  0.2059746 ]]\n"
     ]
    }
   ],
   "source": [
    "print np.vstack((vec_1_, vec_1_))"
   ]
  },
  {
   "cell_type": "code",
   "execution_count": 131,
   "metadata": {
    "collapsed": false
   },
   "outputs": [
    {
     "name": "stdout",
     "output_type": "stream",
     "text": [
      "(2L, 4L)\n"
     ]
    }
   ],
   "source": [
    "print np.vstack((vec_1_, vec_1_)).shape"
   ]
  },
  {
   "cell_type": "code",
   "execution_count": 132,
   "metadata": {
    "collapsed": false
   },
   "outputs": [
    {
     "name": "stdout",
     "output_type": "stream",
     "text": [
      "[[ 0.72321931  0.28241295  0.69711204  0.71115872]\n",
      " [ 0.75777035  0.67067145  0.81723818  0.74861268]\n",
      " [ 0.98773623  0.30544845  0.64481952  0.69253541]\n",
      " [ 0.68356857  0.59590889  0.07894407  0.7613203 ]]\n"
     ]
    }
   ],
   "source": [
    "print vec_2"
   ]
  },
  {
   "cell_type": "code",
   "execution_count": 133,
   "metadata": {
    "collapsed": false
   },
   "outputs": [
    {
     "name": "stdout",
     "output_type": "stream",
     "text": [
      "[[ 1.44643862  0.56482589  1.39422409  1.42231744]\n",
      " [ 1.5155407   1.34134291  1.63447635  1.49722537]\n",
      " [ 1.97547245  0.61089691  1.28963905  1.38507082]\n",
      " [ 1.36713713  1.19181778  0.15788814  1.5226406 ]]\n"
     ]
    }
   ],
   "source": [
    "print vec_2+vec_2 #elementwise sum"
   ]
  },
  {
   "cell_type": "code",
   "execution_count": 134,
   "metadata": {
    "collapsed": false
   },
   "outputs": [
    {
     "name": "stdout",
     "output_type": "stream",
     "text": [
      "[[ 0.52304617  0.07975707  0.4859652   0.50574672]\n",
      " [ 0.57421591  0.4498002   0.66787824  0.56042095]\n",
      " [ 0.97562285  0.09329876  0.41579222  0.47960529]\n",
      " [ 0.46726599  0.35510741  0.00623217  0.5796086 ]]\n"
     ]
    }
   ],
   "source": [
    "print vec_2*vec_2 #elementwise product (not Matrix Multiplication!)"
   ]
  },
  {
   "cell_type": "code",
   "execution_count": 135,
   "metadata": {
    "collapsed": false
   },
   "outputs": [
    {
     "name": "stdout",
     "output_type": "stream",
     "text": [
      "[[ 1.91173889  1.0303704   1.24061675  1.74993598]\n",
      " [ 2.37519295  1.35953345  1.66241882  2.17686856]\n",
      " [ 2.05611674  1.09345219  1.40865074  1.90490144]\n",
      " [ 1.54432262  1.07049858  1.07452978  1.56651087]]\n"
     ]
    }
   ],
   "source": [
    "print np.dot(vec_2, vec_2)"
   ]
  },
  {
   "cell_type": "code",
   "execution_count": 136,
   "metadata": {
    "collapsed": false
   },
   "outputs": [
    {
     "name": "stdout",
     "output_type": "stream",
     "text": [
      "-0.0561744297093\n"
     ]
    }
   ],
   "source": [
    "print np.linalg.det(vec_2)"
   ]
  },
  {
   "cell_type": "code",
   "execution_count": 137,
   "metadata": {
    "collapsed": false
   },
   "outputs": [
    {
     "name": "stdout",
     "output_type": "stream",
     "text": [
      "[[ 0.52304617  0.07975707  0.4859652   0.50574672]\n",
      " [ 0.57421591  0.4498002   0.66787824  0.56042095]\n",
      " [ 0.97562285  0.09329876  0.41579222  0.47960529]\n",
      " [ 0.46726599  0.35510741  0.00623217  0.5796086 ]]\n"
     ]
    }
   ],
   "source": [
    "print np.power(vec_2, 2)"
   ]
  },
  {
   "cell_type": "code",
   "execution_count": 138,
   "metadata": {
    "collapsed": false
   },
   "outputs": [
    {
     "name": "stdout",
     "output_type": "stream",
     "text": [
      "[[ 1.91173889  1.0303704   1.24061675  1.74993598]\n",
      " [ 2.37519295  1.35953345  1.66241882  2.17686856]\n",
      " [ 2.05611674  1.09345219  1.40865074  1.90490144]\n",
      " [ 1.54432262  1.07049858  1.07452978  1.56651087]]\n"
     ]
    }
   ],
   "source": [
    "print np.linalg.matrix_power(vec_2, 2)"
   ]
  },
  {
   "cell_type": "code",
   "execution_count": 139,
   "metadata": {
    "collapsed": false
   },
   "outputs": [
    {
     "name": "stdout",
     "output_type": "stream",
     "text": [
      "[[ 28.14146233  16.36148772  19.12752395  26.49869503]\n",
      " [ 36.04754598  20.95189104  24.50016832  33.94052391]\n",
      " [ 30.64513248  17.8163811   20.82779782  28.85604704]\n",
      " [ 25.11603742  14.60142921  17.07471497  23.6465306 ]]\n"
     ]
    }
   ],
   "source": [
    "print np.linalg.matrix_power(vec_2, 5)"
   ]
  },
  {
   "cell_type": "markdown",
   "metadata": {},
   "source": [
    "# Eigenvalues"
   ]
  },
  {
   "cell_type": "code",
   "execution_count": 140,
   "metadata": {
    "collapsed": false
   },
   "outputs": [],
   "source": [
    "import pylab as plt\n",
    "%matplotlib inline "
   ]
  },
  {
   "cell_type": "code",
   "execution_count": 141,
   "metadata": {
    "collapsed": false
   },
   "outputs": [
    {
     "name": "stdout",
     "output_type": "stream",
     "text": [
      "[[-0.23245839  0.34721948]\n",
      " [ 0.9310904   0.22913624]\n",
      " [ 0.58974444  0.01265035]\n",
      " [-0.81659372 -0.93399382]]\n"
     ]
    }
   ],
   "source": [
    "circle_points = np.random.rand(1000,2)*2 -1 #this shifts the values to generate values between -1 and 1 \n",
    "print circle_points[1:5, :]"
   ]
  },
  {
   "cell_type": "code",
   "execution_count": 142,
   "metadata": {
    "collapsed": false
   },
   "outputs": [
    {
     "data": {
      "text/plain": [
       "<matplotlib.collections.PathCollection at 0xb6ecd68>"
      ]
     },
     "execution_count": 142,
     "metadata": {},
     "output_type": "execute_result"
    },
    {
     "data": {
      "image/png": "[encoded data removed]",
      "text/plain": [
       "<matplotlib.figure.Figure at 0xb78fe48>"
      ]
     },
     "metadata": {},
     "output_type": "display_data"
    }
   ],
   "source": [
    "plt.scatter(circle_points[:,0], circle_points[:,1])"
   ]
  },
  {
   "cell_type": "code",
   "execution_count": 143,
   "metadata": {
    "collapsed": false
   },
   "outputs": [
    {
     "name": "stdout",
     "output_type": "stream",
     "text": [
      "[ 0.41784958  0.95887056  0.58988011  1.2406328 ]\n"
     ]
    }
   ],
   "source": [
    "dist_points = np.power(circle_points[:,0], 2) + np.power(circle_points[:,1], 2)\n",
    "dist_points = np.sqrt(dist_points)\n",
    "print dist_points [1:5]"
   ]
  },
  {
   "cell_type": "code",
   "execution_count": 144,
   "metadata": {
    "collapsed": false
   },
   "outputs": [
    {
     "name": "stdout",
     "output_type": "stream",
     "text": [
      "(array([  0,   1,   2,   3,   5,   6,   7,   8,  10,  11,  12,  13,  14,\n",
      "        15,  16,  17,  18,  19,  20,  21,  22,  23,  24,  26,  27,  29,\n",
      "        30,  31,  32,  34,  35,  36,  38,  39,  40,  41,  43,  44,  45,\n",
      "        46,  47,  48,  49,  50,  53,  54,  55,  56,  58,  59,  60,  62,\n",
      "        63,  64,  65,  66,  68,  70,  71,  72,  73,  74,  76,  77,  78,\n",
      "        80,  81,  83,  84,  85,  87,  88,  89,  91,  92,  93,  94,  95,\n",
      "        96,  99, 100, 102, 103, 104, 105, 108, 109, 110, 112, 113, 114,\n",
      "       116, 117, 118, 120, 122, 123, 126, 127, 128, 129, 130, 131, 132,\n",
      "       133, 134, 135, 137, 138, 140, 142, 143, 144, 145, 146, 147, 148,\n",
      "       149, 150, 151, 152, 153, 154, 155, 157, 159, 160, 161, 162, 163,\n",
      "       164, 165, 166, 169, 171, 172, 173, 175, 176, 177, 178, 179, 181,\n",
      "       182, 183, 186, 187, 190, 191, 192, 193, 194, 196, 198, 199, 201,\n",
      "       203, 204, 205, 206, 207, 208, 209, 210, 212, 213, 214, 215, 217,\n",
      "       218, 220, 221, 223, 227, 228, 229, 230, 231, 232, 233, 235, 237,\n",
      "       240, 242, 243, 244, 245, 246, 248, 249, 251, 252, 253, 254, 255,\n",
      "       256, 257, 258, 259, 260, 261, 264, 265, 267, 269, 270, 272, 275,\n",
      "       276, 277, 280, 282, 283, 285, 286, 287, 289, 290, 293, 294, 295,\n",
      "       296, 298, 301, 302, 304, 306, 307, 309, 310, 311, 314, 315, 316,\n",
      "       317, 318, 320, 321, 322, 324, 325, 326, 327, 328, 329, 330, 332,\n",
      "       333, 334, 335, 336, 337, 338, 339, 340, 341, 342, 343, 344, 347,\n",
      "       348, 350, 351, 352, 353, 354, 355, 356, 358, 359, 360, 361, 365,\n",
      "       366, 367, 368, 369, 370, 371, 372, 373, 375, 377, 378, 379, 380,\n",
      "       381, 382, 385, 386, 388, 389, 390, 391, 392, 393, 394, 395, 396,\n",
      "       397, 399, 400, 401, 402, 404, 406, 407, 410, 411, 413, 414, 416,\n",
      "       418, 419, 420, 421, 423, 424, 425, 426, 428, 429, 433, 434, 435,\n",
      "       436, 437, 438, 439, 440, 441, 442, 443, 444, 445, 447, 450, 451,\n",
      "       454, 455, 456, 457, 458, 459, 460, 461, 463, 464, 465, 466, 467,\n",
      "       468, 470, 471, 472, 473, 476, 479, 480, 481, 483, 485, 486, 487,\n",
      "       488, 489, 490, 492, 493, 495, 497, 498, 499, 500, 501, 502, 503,\n",
      "       505, 506, 507, 508, 509, 511, 512, 513, 514, 515, 516, 517, 518,\n",
      "       520, 521, 522, 523, 524, 525, 526, 527, 528, 529, 530, 531, 532,\n",
      "       534, 536, 537, 539, 540, 542, 543, 544, 545, 546, 547, 548, 549,\n",
      "       551, 552, 553, 556, 558, 560, 561, 562, 563, 564, 565, 566, 567,\n",
      "       569, 570, 571, 574, 575, 577, 578, 579, 580, 581, 582, 583, 587,\n",
      "       588, 590, 592, 593, 594, 595, 596, 597, 598, 599, 600, 601, 602,\n",
      "       603, 604, 605, 606, 607, 608, 612, 613, 614, 615, 616, 617, 618,\n",
      "       619, 620, 621, 624, 625, 626, 629, 630, 631, 633, 634, 637, 640,\n",
      "       641, 642, 643, 644, 645, 646, 647, 648, 649, 651, 652, 654, 656,\n",
      "       657, 660, 662, 663, 666, 667, 668, 669, 670, 671, 672, 676, 677,\n",
      "       679, 683, 684, 688, 689, 690, 691, 692, 693, 695, 696, 698, 699,\n",
      "       700, 701, 704, 705, 707, 708, 710, 711, 712, 713, 714, 715, 716,\n",
      "       718, 719, 721, 722, 723, 724, 725, 726, 727, 728, 729, 730, 731,\n",
      "       732, 733, 737, 739, 740, 742, 743, 745, 746, 747, 748, 749, 750,\n",
      "       751, 752, 753, 754, 755, 756, 757, 759, 760, 761, 762, 763, 764,\n",
      "       765, 766, 768, 773, 774, 776, 777, 778, 779, 780, 781, 782, 783,\n",
      "       785, 786, 787, 788, 789, 791, 792, 793, 795, 796, 797, 798, 799,\n",
      "       801, 802, 805, 806, 808, 809, 810, 813, 814, 815, 816, 817, 818,\n",
      "       819, 821, 822, 823, 824, 825, 826, 827, 828, 829, 830, 832, 833,\n",
      "       834, 836, 837, 838, 839, 840, 841, 842, 843, 844, 845, 847, 849,\n",
      "       850, 851, 852, 853, 854, 855, 856, 857, 858, 859, 860, 861, 862,\n",
      "       863, 865, 866, 867, 868, 869, 870, 871, 873, 874, 875, 876, 877,\n",
      "       878, 879, 880, 881, 882, 883, 884, 885, 886, 888, 890, 891, 892,\n",
      "       893, 895, 896, 898, 899, 900, 901, 902, 903, 904, 906, 907, 910,\n",
      "       913, 919, 920, 921, 922, 923, 924, 925, 927, 928, 929, 930, 932,\n",
      "       933, 934, 936, 937, 938, 939, 940, 941, 942, 943, 944, 945, 946,\n",
      "       947, 948, 949, 950, 951, 952, 953, 954, 955, 957, 958, 959, 960,\n",
      "       962, 963, 964, 966, 967, 968, 969, 970, 971, 974, 975, 976, 977,\n",
      "       978, 979, 980, 981, 983, 984, 985, 986, 989, 990, 991, 992, 993,\n",
      "       994, 995, 997, 999], dtype=int64),)\n"
     ]
    }
   ],
   "source": [
    "print np.nonzero(dist_points<1)"
   ]
  },
  {
   "cell_type": "code",
   "execution_count": 145,
   "metadata": {
    "collapsed": true
   },
   "outputs": [],
   "source": [
    "inner_circle = circle_points[np.nonzero(dist_points<1)[0], :] #ask me about the zero"
   ]
  },
  {
   "cell_type": "code",
   "execution_count": 146,
   "metadata": {
    "collapsed": false
   },
   "outputs": [
    {
     "data": {
      "image/png": "[encoded data removed]",
      "text/plain": [
       "<matplotlib.figure.Figure at 0xb4e01d0>"
      ]
     },
     "metadata": {},
     "output_type": "display_data"
    }
   ],
   "source": [
    "plt.scatter(inner_circle[:,0], inner_circle[:,1])\n",
    "plt.gca().set_aspect('equal', adjustable='box') #without this it doesn't look like a circle"
   ]
  },
  {
   "cell_type": "code",
   "execution_count": 147,
   "metadata": {
    "collapsed": false
   },
   "outputs": [
    {
     "name": "stdout",
     "output_type": "stream",
     "text": [
      "(758L, 2L)\n"
     ]
    }
   ],
   "source": [
    "print inner_circle.shape"
   ]
  },
  {
   "cell_type": "code",
   "execution_count": 153,
   "metadata": {
    "collapsed": false
   },
   "outputs": [
    {
     "name": "stdout",
     "output_type": "stream",
     "text": [
      "[[2 1]\n",
      " [1 2]]\n"
     ]
    }
   ],
   "source": [
    "transf_matrix = np.array([[2,1], [1,2]])\n",
    "print transf_matrix"
   ]
  },
  {
   "cell_type": "code",
   "execution_count": 149,
   "metadata": {
    "collapsed": true
   },
   "outputs": [],
   "source": [
    "transf_dots = np.dot(transf_matrix, inner_circle.T).T"
   ]
  },
  {
   "cell_type": "code",
   "execution_count": 150,
   "metadata": {
    "collapsed": false
   },
   "outputs": [
    {
     "name": "stdout",
     "output_type": "stream",
     "text": [
      "(758L, 2L)\n"
     ]
    }
   ],
   "source": [
    "print transf_dots.shape"
   ]
  },
  {
   "cell_type": "code",
   "execution_count": 151,
   "metadata": {
    "collapsed": false
   },
   "outputs": [
    {
     "data": {
      "image/png": "[encoded data removed]",
      "text/plain": [
       "<matplotlib.figure.Figure at 0xb784a20>"
      ]
     },
     "metadata": {},
     "output_type": "display_data"
    }
   ],
   "source": [
    "plt.scatter(transf_dots[:,0], transf_dots[:,1])\n",
    "plt.gca().set_aspect('equal', adjustable='box') #without this it doesn't look like a circle"
   ]
  },
  {
   "cell_type": "code",
   "execution_count": 152,
   "metadata": {
    "collapsed": false
   },
   "outputs": [
    {
     "name": "stdout",
     "output_type": "stream",
     "text": [
      "(array([ 3.,  1.]), array([[ 0.70710678, -0.70710678],\n",
      "       [ 0.70710678,  0.70710678]]))\n"
     ]
    }
   ],
   "source": [
    "print np.linalg.eig(transf_matrix)"
   ]
  },
  {
   "cell_type": "markdown",
   "metadata": {},
   "source": [
    "[Go back to the main page](https://leonpalafox.github.io/MLClass/)"
   ]
  }
 ],
 "metadata": {
  "kernelspec": {
   "display_name": "Python 2",
   "language": "python",
   "name": "python2"
  },
  "language_info": {
   "codemirror_mode": {
    "name": "ipython",
    "version": 2
   },
   "file_extension": ".py",
   "mimetype": "text/x-python",
   "name": "python",
   "nbconvert_exporter": "python",
   "pygments_lexer": "ipython2",
   "version": "2.7.11"
  }
 },
 "nbformat": 4,
 "nbformat_minor": 0
}
